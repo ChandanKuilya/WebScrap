{
  "nbformat": 4,
  "nbformat_minor": 0,
  "metadata": {
    "colab": {
      "provenance": [],
      "authorship_tag": "ABX9TyNYsDQpI/i+hf2qhmgHTOEz",
      "include_colab_link": true
    },
    "kernelspec": {
      "name": "python3",
      "display_name": "Python 3"
    },
    "language_info": {
      "name": "python"
    }
  },
  "cells": [
    {
      "cell_type": "markdown",
      "metadata": {
        "id": "view-in-github",
        "colab_type": "text"
      },
      "source": [
        "<a href=\"https://colab.research.google.com/github/ChandanKuilya/WebScrap/blob/main/ScrapNaukri1.ipynb\" target=\"_parent\"><img src=\"https://colab.research.google.com/assets/colab-badge.svg\" alt=\"Open In Colab\"/></a>"
      ]
    },
    {
      "cell_type": "code",
      "execution_count": 5,
      "metadata": {
        "id": "bufsmlOH-mpM"
      },
      "outputs": [],
      "source": [
        "!pip install selenium   # installing necessry modules with pip\n"
      ]
    },
    {
      "cell_type": "code",
      "source": [
        "!pip install -U selenium\n"
      ],
      "metadata": {
        "id": "Y_oxw099mHuR"
      },
      "execution_count": 5,
      "outputs": []
    },
    {
      "cell_type": "code",
      "source": [
        "\n",
        "!pip install webdriver-manager"
      ],
      "metadata": {
        "id": "0R1ss5U_mQ6N"
      },
      "execution_count": 5,
      "outputs": []
    },
    {
      "cell_type": "code",
      "source": [
        "# import requests               \n",
        "\n",
        "# importing different modules to scrapt the dynamically(Thats why in this project we will be using Selenium,Webdriver with BeautifulSoup) loaded website data\n",
        "from bs4 import BeautifulSoup\n",
        "from selenium.webdriver import Chrome\n",
        "from selenium import webdriver\n",
        "#from selenium import ChromeDriverManager\n",
        "#from webdriver_manager.chrome import ChromeDriverManager\n",
        "import json\n",
        "\n",
        "# URL = \"https://www.naukri.com/job-listings-data-scientist-business-analyst-science-data-analyst-megara-infotech-bhubaneswar-mumbai-hyderabad-secunderabad-gurgaon-gurugram-bangalore-bengaluru-delhi-ncr-0-to-1-years-310323003909?src=discovery_trendingWdgt_homepage_srch&sid=16802765936445865&xp=1&px=1\"\n",
        "# page = requests.get(URL)\n",
        "\n",
        "# soup = BeautifulSoup(page.content,\"html.parser\")\n",
        "\n",
        "# print(soup.prettify())\n",
        "\n",
        "\n",
        "options = webdriver.ChromeOptions()\n",
        "options.binary_location = r\"C:\\Program Files\\Google\\Chrome\\Application\\chrome.exe\"\n",
        "chrome_driver_binary = r\"C:\\Users\\CHANDAN KUILYA\\Downloads\\chromedriver_win32.exe\"\n",
        "driver = webdriver.Chrome(chrome_driver_binary, options=options)\n",
        "driver.get('https://www.naukri.com/job-listings-data-scientist-business-analyst-science-data-analyst-megara-infotech-bhubaneswar-mumbai-hyderabad-secunderabad-gurgaon-gurugram-bangalore-bengaluru-delhi-ncr-0-to-1-years-310323003909?src=discovery_trendingWdgt_homepage_srch&sid=16802765936445865&xp=1&px=1')\n",
        "\n",
        "#driver = Chrome(executable_path=r'C:\\Users\\CHANDAN KUILYA\\Downloads\\chromedriver_win32.exe')\n",
        "#driver = webdriver.Chrome(r'C:\\Program Files\\Google\\Chrome\\Application\\chrome') \n",
        "#driver.get('https://www.naukri.com/job-listings-data-scientist-business-analyst-science-data-analyst-megara-infotech-bhubaneswar-mumbai-hyderabad-secunderabad-gurgaon-gurugram-bangalore-bengaluru-delhi-ncr-0-to-1-years-310323003909?src=discovery_trendingWdgt_homepage_srch&sid=16802765936445865&xp=1&px=1')\n",
        "\n",
        "soup = BeautifulSoup(driver.page_source,'lxml')\n",
        "\n",
        "\n",
        "#from selenium import webdriver\n",
        "#import selenium.webdriver.chrome.service as service\n",
        "#service = service.Service('C:\\Users\\CHANDAN KUILYA\\Downloads\\chromedriver_win32.exe')\n",
        "#service.start()\n",
        "#capabilities = {'chrome.binary': \"C:\\Program Files\\Google\\Chrome\\Application\\chrome.exe\"}\n",
        "#driver = webdriver.Remote(service.service_url, capabilities)\n",
        "#driver.get('https://www.naukri.com/job-listings-data-scientist-business-analyst-science-data-analyst-megara-infotech-bhubaneswar-mumbai-hyderabad-secunderabad-gurgaon-gurugram-bangalore-bengaluru-delhi-ncr-0-to-1-years-310323003909?src=discovery_trendingWdgt_homepage_srch&sid=16802765936445865&xp=1&px=1')\n",
        "\n",
        "  ## Scraping and fetching the datas\n",
        "job_title = soup.find('h1', attrs={'class': 'jd-header-title'}).text.strip()\n",
        "company_name = soup.find('div', attrs={'class': 'jd-header-comp-name'}).text.strip()\n",
        "location = soup.find('span', attrs={'class': 'location'}).text.strip()\n",
        "experience = soup.find('div', attrs={'class': 'exp'}).text.strip()\n",
        "skills = [tag.text.strip() for tag in soup.select('div.key-skill span')]\n",
        "job_description = soup.find('div', attrs={'class': 'dang-inner-html'}).text.strip()\n",
        "salary_range = soup.find('div', attrs={'class': 'salary'}).text.strip()\n",
        "date_of_posting = soup.find('span', attrs={'class': 'stat'}).text.strip()\n",
        "#job_type = soup.find('div', attrs={'class': 'details[3]'}).text.strip()\n",
        "#job_type = [tag.text.strip() for tag in soup.select('div.details span.Employment Type')]\n",
        "#job_type=soup.find('label', attrs={'tag': 'Employment Type'}).text.strip()\n",
        "job_type = [tag.text.strip() for tag in soup.select('div.details span')]\n",
        "\n",
        "\n",
        "#job_type = [tag.text.strip() for tag in soup.select('div.details Employment Type')]\n",
        "\n",
        "# Creating the json object\n",
        "job_data = {\n",
        "    \"job_title\": job_title,\n",
        "    \"company_name\": company_name,\n",
        "    \"location\": location,\n",
        "    \"experience\": experience,\n",
        "    \"skills\": skills,\n",
        "    \"job_description\": job_description,\n",
        "    \"salary_range\": salary_range,\n",
        "    \"date_of_posting\": date_of_posting,\n",
        "    \"job_type\": job_type\n",
        "}\n",
        "\n",
        "json_data = json.dumps(job_data)\n",
        "\n",
        "driver.quit()\n",
        "print(json_data)\n",
        "\n",
        "\n"
      ],
      "metadata": {
        "id": "gWgJQR_7kiK0"
      },
      "execution_count": 5,
      "outputs": []
    },
    {
      "cell_type": "code",
      "source": [],
      "metadata": {
        "id": "Zf_3d3ZOFPCM"
      },
      "execution_count": 3,
      "outputs": []
    }
  ]
}